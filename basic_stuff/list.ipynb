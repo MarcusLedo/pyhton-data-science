{
 "cells": [
  {
   "cell_type": "code",
   "execution_count": 8,
   "id": "55940314-52e0-4196-b890-b81a386b9213",
   "metadata": {
    "tags": []
   },
   "outputs": [
    {
     "name": "stdout",
     "output_type": "stream",
     "text": [
      "[1, 2, 3, 4, 5]\n"
     ]
    }
   ],
   "source": [
    "#formas de criar listas\n",
    "lst = [1,2, 3, 4, 5]\n",
    "print(lst)"
   ]
  },
  {
   "cell_type": "code",
   "execution_count": 2,
   "id": "520ac38c-3cd0-4ef6-ad15-3ff40815265b",
   "metadata": {
    "tags": []
   },
   "outputs": [
    {
     "name": "stdout",
     "output_type": "stream",
     "text": [
      "[1, 2, True, 'Marcus', 0]\n"
     ]
    }
   ],
   "source": [
    "#pode guardar vários tipos de dados\n",
    "lst2 = [1, 2, True, \"Marcus\", 0]\n",
    "print(lst2)"
   ]
  },
  {
   "cell_type": "code",
   "execution_count": 3,
   "id": "a4a1a9aa-a72d-437c-b65f-6700558993f6",
   "metadata": {
    "tags": []
   },
   "outputs": [
    {
     "name": "stdout",
     "output_type": "stream",
     "text": [
      "22\n",
      "33\n",
      "44\n"
     ]
    }
   ],
   "source": [
    "#até mesmo uma outra lista\n",
    "listInception = [1, 2, [22, 33, 44], 3, 4]\n",
    "\n",
    "for e in listInception:\n",
    "    if type(e) == list:\n",
    "        for x in e:\n",
    "            print(x) \n"
   ]
  },
  {
   "cell_type": "code",
   "execution_count": 4,
   "id": "8d182521-1b33-4b3f-98bd-975b285f55ec",
   "metadata": {
    "tags": []
   },
   "outputs": [
    {
     "name": "stdout",
     "output_type": "stream",
     "text": [
      "5\n"
     ]
    }
   ],
   "source": [
    "#comprimento da lista (len)\n",
    "print(len(lst))"
   ]
  },
  {
   "cell_type": "code",
   "execution_count": 9,
   "id": "533d32a7-d549-40e6-868d-574fa88e679d",
   "metadata": {
    "tags": []
   },
   "outputs": [
    {
     "name": "stdout",
     "output_type": "stream",
     "text": [
      "4\n",
      "[22, 33, 44]\n",
      "[1, 2, 3, 1000, 5]\n"
     ]
    }
   ],
   "source": [
    "#acessar elementos especificos em uma lista (Igual array em C)\n",
    "print(lst[3])\n",
    "print(listInception[2]) #outra lista\n",
    "#alterando uma posição\n",
    "lst[3] = 1000\n",
    "print(lst)"
   ]
  },
  {
   "cell_type": "code",
   "execution_count": 11,
   "id": "dd4bd71f-8143-41cb-9026-689bdb1a0347",
   "metadata": {
    "tags": []
   },
   "outputs": [
    {
     "name": "stdout",
     "output_type": "stream",
     "text": [
      "1\n",
      "2\n",
      "3\n",
      "1000\n",
      "5\n",
      "---------------\n",
      "1\n",
      "2\n",
      "3\n",
      "1000\n",
      "5\n"
     ]
    }
   ],
   "source": [
    "#percorrendo uma lista\n",
    "for n in range(0, len(lst)):\n",
    "    print(lst[n])\n",
    "    \n",
    "print(\"---------------\")\n",
    "    \n",
    "#ou\n",
    "for e in lst:\n",
    "    print(e)"
   ]
  },
  {
   "cell_type": "code",
   "execution_count": null,
   "id": "42986525-d299-40ac-ada8-e762e685536a",
   "metadata": {},
   "outputs": [],
   "source": []
  }
 ],
 "metadata": {
  "kernelspec": {
   "display_name": "Python 3 (ipykernel)",
   "language": "python",
   "name": "python3"
  },
  "language_info": {
   "codemirror_mode": {
    "name": "ipython",
    "version": 3
   },
   "file_extension": ".py",
   "mimetype": "text/x-python",
   "name": "python",
   "nbconvert_exporter": "python",
   "pygments_lexer": "ipython3",
   "version": "3.11.3"
  }
 },
 "nbformat": 4,
 "nbformat_minor": 5
}
