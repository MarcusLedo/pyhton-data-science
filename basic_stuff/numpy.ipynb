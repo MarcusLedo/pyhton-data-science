{
 "cells": [
  {
   "cell_type": "code",
   "execution_count": 2,
   "id": "ab23b9eb-83a7-4ab8-ab2e-538a6abca83e",
   "metadata": {
    "tags": []
   },
   "outputs": [],
   "source": [
    "#Biblioteca para tratar dados, operações com arrays\n",
    "import numpy as np"
   ]
  },
  {
   "cell_type": "code",
   "execution_count": 5,
   "id": "529648c8-1679-4c76-a613-5bd7df590ac1",
   "metadata": {
    "tags": []
   },
   "outputs": [
    {
     "name": "stdout",
     "output_type": "stream",
     "text": [
      "[12 34 26 18 10]\n",
      "<class 'numpy.ndarray'>\n"
     ]
    }
   ],
   "source": [
    "#criando um array e verificando o seu tipo\n",
    "vetor = np.array([12, 34, 26, 18, 10])\n",
    "print(vetor)\n",
    "print(type(vetor))"
   ]
  },
  {
   "cell_type": "code",
   "execution_count": 7,
   "id": "d7826a2c-423b-45ad-9f1a-211d181f7a97",
   "metadata": {
    "tags": []
   },
   "outputs": [
    {
     "name": "stdout",
     "output_type": "stream",
     "text": [
      "[1. 2. 3.]\n",
      "<class 'numpy.ndarray'>\n",
      "[1 2 3]\n",
      "<class 'numpy.ndarray'>\n"
     ]
    }
   ],
   "source": [
    "#Criando um array com um tipo específico\n",
    "# array do tipo float de 64bits\n",
    "vetorFloat = np.array([1, 2, 3], dtype = np.float64)\n",
    "print(vetorFloat)\n",
    "print(type(vetorFloat))\n",
    "\n",
    "#Tipo inteiro 32bits\n",
    "vetorInt = np.array([1, 2 , 3], dtype = np.int32)\n",
    "print(vetorInt)\n",
    "print(type(vetorInt))\n"
   ]
  },
  {
   "cell_type": "code",
   "execution_count": 8,
   "id": "b951c55a-4287-4ba5-8b64-3564af56dfbf",
   "metadata": {
    "tags": []
   },
   "outputs": [
    {
     "name": "stdout",
     "output_type": "stream",
     "text": [
      "[ 1.4        3.6       -5.1        9.42       4.9999999]\n",
      "[ 1  3 -5  9  4]\n"
     ]
    }
   ],
   "source": [
    "#mudando o tipo de um array\n",
    "novoVetor = np.array([1.4, 3.6, -5.1, 9.42, 4.9999999])\n",
    "print(novoVetor)\n",
    "\n",
    "#float -> int\n",
    "novoVetorInt = novoVetor.astype(np.int32)\n",
    "print(novoVetorInt)"
   ]
  },
  {
   "cell_type": "code",
   "execution_count": 10,
   "id": "72c2189b-c0f6-49da-839a-66d21c1185d5",
   "metadata": {
    "tags": []
   },
   "outputs": [
    {
     "name": "stdout",
     "output_type": "stream",
     "text": [
      "[[ 7  2 23]\n",
      " [12 27  4]\n",
      " [ 5 34 23]]\n"
     ]
    }
   ],
   "source": [
    "#Criando matrizes\n",
    "#Matriz 3x3\n",
    "matriz = np.array([[7, 2, 23], [12, 27, 4], [5, 34, 23]])\n",
    "print(matriz)"
   ]
  },
  {
   "cell_type": "code",
   "execution_count": 15,
   "id": "df68ccec-811e-4804-83c4-373e0ec9dfe7",
   "metadata": {
    "tags": []
   },
   "outputs": [
    {
     "name": "stdout",
     "output_type": "stream",
     "text": [
      "[[         0 1072693248]\n",
      " [         0 1073741824]\n",
      " [         0 1074266112]]\n",
      "------------\n",
      "[[0. 0. 0.]\n",
      " [0. 0. 0.]\n",
      " [0. 0. 0.]\n",
      " [0. 0. 0.]]\n",
      "------------\n",
      "[[1. 1. 1. 1. 1. 1. 1.]\n",
      " [1. 1. 1. 1. 1. 1. 1.]\n",
      " [1. 1. 1. 1. 1. 1. 1.]\n",
      " [1. 1. 1. 1. 1. 1. 1.]\n",
      " [1. 1. 1. 1. 1. 1. 1.]]\n",
      "------------\n",
      "[[1. 0. 0. 0. 0.]\n",
      " [0. 1. 0. 0. 0.]\n",
      " [0. 0. 1. 0. 0.]\n",
      " [0. 0. 0. 1. 0.]\n",
      " [0. 0. 0. 0. 1.]]\n"
     ]
    }
   ],
   "source": [
    "#Criando arrays vazios tipificados\n",
    "#empty significa que não são inicializados, não que são vazios. Lixo de memória?\n",
    "vazio = np.empty([3, 2], dtype = int)\n",
    "print(vazio)\n",
    "print(\"------------\")\n",
    "zeros = np.zeros([4,3]) #4x3\n",
    "print(zeros)\n",
    "print(\"------------\")\n",
    "um = np.ones([5, 7])\n",
    "print(um)\n",
    "print(\"------------\")\n",
    "#Cria uma matriz com a diagonal principal com valores 1 e os outros valores 0\n",
    "diagonal = np.eye(5)\n",
    "print(diagonal)"
   ]
  },
  {
   "cell_type": "code",
   "execution_count": 19,
   "id": "d08376d4-7f6b-4429-b8c7-a51dd76d2793",
   "metadata": {
    "tags": []
   },
   "outputs": [
    {
     "name": "stdout",
     "output_type": "stream",
     "text": [
      "[0.75954139 0.25022745 0.3419463  0.48261645 0.41250113]\n",
      "------------\n",
      "[-1.33258839 -0.90351484 -0.74688238  0.42422508 -1.21769549]\n",
      "------------\n",
      "[[4.51590605 8.53498001 9.26473762 2.56890266]\n",
      " [6.79750862 8.83105957 9.74506078 0.033013  ]\n",
      " [0.47510044 7.39928378 1.27381786 7.33492852]]\n"
     ]
    }
   ],
   "source": [
    "#valores aletórios entre 0 e 1\n",
    "rand = np.random.random((5))\n",
    "print(rand)\n",
    "print(\"------------\")\n",
    "#valores aleatórios distr. normal contendo negativos\n",
    "rand2 = np.random.randn((5))\n",
    "print(rand2)\n",
    "print(\"------------\")\n",
    "#valores aleatórios 3 x 4\n",
    "rand3 = (10*np.random.random((3, 4)))\n",
    "print(rand3)"
   ]
  },
  {
   "cell_type": "code",
   "execution_count": 22,
   "id": "493cfd5e-3e4e-4c48-a2f9-c0e1117fbcb4",
   "metadata": {
    "tags": []
   },
   "outputs": [
    {
     "name": "stdout",
     "output_type": "stream",
     "text": [
      "[0.51182162 0.9504637  0.14415961]\n",
      "[[82 94 24 31]\n",
      " [86 42 27 82]\n",
      " [25 40 64 54]]\n"
     ]
    }
   ],
   "source": [
    "#outra forma de gerar aleatórios\n",
    "#usando semente (seed)\n",
    "rng = np.random.default_rng(1)\n",
    "rand4 = rng.random(3)\n",
    "print(rand4)\n",
    "\n",
    "#gerando inteiros\n",
    "rand5 = rng.integers(100, size = (3, 4))\n",
    "print(rand5)"
   ]
  },
  {
   "cell_type": "code",
   "execution_count": 24,
   "id": "a69e0a2f-1310-4120-b40a-961cb6185c1c",
   "metadata": {
    "tags": []
   },
   "outputs": [
    {
     "name": "stdout",
     "output_type": "stream",
     "text": [
      "[11 12 13 14 15 16 17 18 23 34 42]\n"
     ]
    }
   ],
   "source": [
    "#unique remove repetições\n",
    "j = np.array([11, 12, 13, 13, 14, 15, 16, 11, 17, 23, 18, 34, 23, 42])\n",
    "j = np.unique(j)\n",
    "print(j)"
   ]
  },
  {
   "cell_type": "code",
   "execution_count": 27,
   "id": "e8de5642-46d9-4ab3-b4cd-b31dcc8d13e7",
   "metadata": {
    "tags": []
   },
   "outputs": [
    {
     "name": "stdout",
     "output_type": "stream",
     "text": [
      "[[ 7  2 23]\n",
      " [12 27  4]\n",
      " [ 5 34 23]]\n",
      "2\n",
      "(3, 3)\n"
     ]
    }
   ],
   "source": [
    "#Acessando posições em matrizes\n",
    "print(matriz)\n",
    "print(matriz[0][1])\n",
    "print(matriz.shape)"
   ]
  },
  {
   "cell_type": "code",
   "execution_count": 29,
   "id": "8c5bd574-d9ab-4cfe-be8b-90995ba80f1f",
   "metadata": {
    "tags": []
   },
   "outputs": [
    {
     "name": "stdout",
     "output_type": "stream",
     "text": [
      "34\n",
      "2\n",
      "137\n",
      "15.222222222222221\n",
      "11.033059188716807\n"
     ]
    }
   ],
   "source": [
    "#Funções matemáticas\n",
    "# Mostra o maior valor da matriz \"matriz\"\n",
    "print(matriz.max())\n",
    "# Mostra o menor valor da matriz \"matriz\"\n",
    "print(matriz.min())\n",
    "# Mostra a soma dos valores da matriz \"matriz\"\n",
    "print(matriz.sum())\n",
    "# Mostra o valor da média do valores da matriz \"matriz\"\n",
    "print(matriz.mean())\n",
    "# Mostra o valor do desvio padrão (standard deviation) dos valores da matriz \"matriz\"\n",
    "print(matriz.std())"
   ]
  },
  {
   "cell_type": "code",
   "execution_count": 31,
   "id": "8ed70168-d673-41a5-a58e-d0f2ad32cb71",
   "metadata": {
    "tags": []
   },
   "outputs": [
    {
     "name": "stdout",
     "output_type": "stream",
     "text": [
      "2\n",
      "------------\n",
      "[1 2]\n",
      "------------\n",
      "[ 2  9  7  5  3  4 22]\n",
      "------------\n",
      "[ 3  4 22]\n"
     ]
    }
   ],
   "source": [
    "myArray = np.array([1, 2, 9, 7, 5, 3, 4, 22])\n",
    "# Elemento na posição 1\n",
    "print(myArray[1])\n",
    "print(\"------------\")\n",
    "# Mostra o array criado a partir da posição 0 até o segundo elemento\n",
    "print(myArray[0:2])\n",
    "print(\"------------\")\n",
    "# Da segunda posição para frente\n",
    "print(myArray[1:])\n",
    "print(\"------------\")\n",
    "# Os ultimos 3 elementos\n",
    "print(myArray[-3:])"
   ]
  },
  {
   "cell_type": "code",
   "execution_count": 35,
   "id": "436aa71c-edb5-423a-8688-dfa686a2195e",
   "metadata": {
    "tags": []
   },
   "outputs": [
    {
     "name": "stdout",
     "output_type": "stream",
     "text": [
      "[1. 2. 3. 4. 5. 6.]\n",
      "[2.71828183e+00 5.45981500e+01 8.10308393e+03 8.88611052e+06\n",
      " 7.20048993e+10 4.31123155e+15]\n"
     ]
    }
   ],
   "source": [
    "#Funções universais, aplicadas a todos os elementos\n",
    "#Raiz quadrada de todos os elementos\n",
    "array = np.array([1, 4, 9, 16, 25, 36])\n",
    "print(np.sqrt(array))\n",
    "#Valor exponecial de todos os elementos\n",
    "print(np.exp(array))"
   ]
  },
  {
   "cell_type": "code",
   "execution_count": 39,
   "id": "0baf9978-1f58-44ca-bed5-5942bf51d632",
   "metadata": {
    "tags": []
   },
   "outputs": [
    {
     "name": "stdout",
     "output_type": "stream",
     "text": [
      "[[4 5]\n",
      " [6 1]\n",
      " [7 4]]\n",
      "------------\n",
      "[4 5]\n",
      "------------\n",
      "[7 4]\n",
      "------------\n",
      "[5 1 4]\n"
     ]
    }
   ],
   "source": [
    "#extração de linhas e colunas\n",
    "matrix = np.array([[4, 5], [6, 1], [7, 4]])\n",
    "print(matrix)\n",
    "print(\"------------\")\n",
    "#Primeira linha\n",
    "matrixLine1 = matrix[0, :]\n",
    "print(matrixLine1)\n",
    "print(\"------------\")\n",
    "#terceira linha\n",
    "matrixLine3 = matrix[2, :]\n",
    "print(matrixLine3)\n",
    "print(\"------------\")\n",
    "#Segunda Coluna\n",
    "matrixColumn2 = matrix[:, 1]\n",
    "print(matrixColumn2)"
   ]
  },
  {
   "cell_type": "code",
   "execution_count": null,
   "id": "5e60bd64-3b00-4aae-8715-147c9ff8043c",
   "metadata": {
    "tags": []
   },
   "outputs": [
    {
     "name": "stdout",
     "output_type": "stream",
     "text": [
      "[[ 0  1  2  3  4]\n",
      " [ 5  6  7  8  9]\n",
      " [10 11 12 13 14]]\n",
      "------------\n",
      "[[ 0  5 10]\n",
      " [ 1  6 11]\n",
      " [ 2  7 12]\n",
      " [ 3  8 13]\n",
      " [ 4  9 14]]\n"
     ]
    }
   ],
   "source": [
    "#Transposição\n",
    "myMatrix = np.arange(15).reshape(3, 5)\n",
    "print(myMatrix)\n",
    "print(\"------------\")\n",
    "matrixT = myMatrix.T\n",
    "print(matrixT)"
   ]
  },
  {
   "cell_type": "code",
   "execution_count": 51,
   "id": "2a0ebf31-ecb0-40d1-a74f-71142277f4bd",
   "metadata": {
    "tags": []
   },
   "outputs": [
    {
     "name": "stdout",
     "output_type": "stream",
     "text": [
      "[[ 0.3447487  -0.2528282  -0.45560182  0.12704308]\n",
      " [ 0.92835637  0.08674368 -1.04159194  1.42076368]\n",
      " [ 0.71887809  0.20481903  0.66061338  0.04951569]\n",
      " [-1.38502582  1.23281055  0.6485414   0.15746593]]\n",
      "[[ True False False  True]\n",
      " [ True  True False  True]\n",
      " [ True  True  True  True]\n",
      " [False  True  True  True]]\n",
      "[[ 1 -1 -1  1]\n",
      " [ 1  1 -1  1]\n",
      " [ 1  1  1  1]\n",
      " [-1  1  1  1]]\n"
     ]
    }
   ],
   "source": [
    "#expressões lógicas\n",
    "#usando where\n",
    "v = np.random.randn(4, 4)\n",
    "print(v)\n",
    "x = (v > 0)\n",
    "print(x)\n",
    "z = np.where(x > 0, 1, -1)\n",
    "print(z)"
   ]
  },
  {
   "cell_type": "code",
   "execution_count": null,
   "id": "d435a681-ee35-412e-94ce-58cd1e09e043",
   "metadata": {},
   "outputs": [],
   "source": []
  }
 ],
 "metadata": {
  "kernelspec": {
   "display_name": "Python 3 (ipykernel)",
   "language": "python",
   "name": "python3"
  },
  "language_info": {
   "codemirror_mode": {
    "name": "ipython",
    "version": 3
   },
   "file_extension": ".py",
   "mimetype": "text/x-python",
   "name": "python",
   "nbconvert_exporter": "python",
   "pygments_lexer": "ipython3",
   "version": "3.11.3"
  }
 },
 "nbformat": 4,
 "nbformat_minor": 5
}
