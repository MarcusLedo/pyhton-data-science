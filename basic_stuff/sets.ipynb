{
 "cells": [
  {
   "cell_type": "code",
   "execution_count": 13,
   "id": "1d253a5f-5464-4995-b8be-0c6c9f16cbe7",
   "metadata": {},
   "outputs": [
    {
     "name": "stdout",
     "output_type": "stream",
     "text": [
      "{'Delta', 'Charlie', 'Alpha'}\n"
     ]
    }
   ],
   "source": [
    "#Sets são conjuntos não ordenados de elementos NÃO REPETIDOS!\n",
    "bigData = {\"Delta\", \"Alpha\", \"Charlie\"}\n",
    "print(bigData)"
   ]
  },
  {
   "cell_type": "code",
   "execution_count": 15,
   "id": "722ba72f-888c-4668-bf98-64849ba2486f",
   "metadata": {
    "tags": []
   },
   "outputs": [
    {
     "name": "stdout",
     "output_type": "stream",
     "text": [
      "True\n"
     ]
    }
   ],
   "source": [
    "#Verificar existência\n",
    "print(\"Alpha\" in bigData)"
   ]
  },
  {
   "cell_type": "code",
   "execution_count": 16,
   "id": "241b5946-d820-47cb-b60f-406ffd7056c3",
   "metadata": {
    "tags": []
   },
   "outputs": [
    {
     "data": {
      "text/plain": [
       "{'Alpha', 'Bravo', 'Charlie', 'Delta'}"
      ]
     },
     "execution_count": 16,
     "metadata": {},
     "output_type": "execute_result"
    }
   ],
   "source": [
    "#Adicionando um elemento\n",
    "bigData.add(\"Bravo\")\n",
    "bigData"
   ]
  },
  {
   "cell_type": "code",
   "execution_count": 17,
   "id": "130e8ae0-858c-465f-9e6c-c735e332a45d",
   "metadata": {
    "tags": []
   },
   "outputs": [
    {
     "name": "stdout",
     "output_type": "stream",
     "text": [
      "4\n"
     ]
    }
   ],
   "source": [
    "#Número de elementos\n",
    "print(len(bigData))"
   ]
  },
  {
   "cell_type": "code",
   "execution_count": 19,
   "id": "8822b143-9f42-457f-bf24-1b38bab9d1f0",
   "metadata": {
    "tags": []
   },
   "outputs": [
    {
     "data": {
      "text/plain": [
       "{'Alpha', 'Bravo', 'Charlie', 'Delta'}"
      ]
     },
     "execution_count": 19,
     "metadata": {},
     "output_type": "execute_result"
    }
   ],
   "source": [
    "#Tentando adicionar um elemento repetido. Não funciona!\n",
    "bigData.add(\"Delta\")\n",
    "bigData"
   ]
  },
  {
   "cell_type": "code",
   "execution_count": null,
   "id": "c96e1e75-ef67-42be-bc06-1074b43b356b",
   "metadata": {},
   "outputs": [],
   "source": []
  }
 ],
 "metadata": {
  "kernelspec": {
   "display_name": "Python 3 (ipykernel)",
   "language": "python",
   "name": "python3"
  },
  "language_info": {
   "codemirror_mode": {
    "name": "ipython",
    "version": 3
   },
   "file_extension": ".py",
   "mimetype": "text/x-python",
   "name": "python",
   "nbconvert_exporter": "python",
   "pygments_lexer": "ipython3",
   "version": "3.11.3"
  }
 },
 "nbformat": 4,
 "nbformat_minor": 5
}
