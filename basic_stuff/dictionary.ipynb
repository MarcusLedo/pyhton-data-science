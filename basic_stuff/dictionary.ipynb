{
 "cells": [
  {
   "cell_type": "code",
   "execution_count": 3,
   "id": "3f959476-8661-421b-b796-22849c47906c",
   "metadata": {
    "tags": []
   },
   "outputs": [
    {
     "name": "stdout",
     "output_type": "stream",
     "text": [
      "{'Marcus': 9.9, 'Rafael': 10, 'Pedro': 8.8}\n"
     ]
    }
   ],
   "source": [
    "#dicionários: estrutura chave/valor\n",
    "notas = {\"Marcus\" : 9.9, \"Rafael\" : 10, \"Pedro\" : 8.8}\n",
    "print(notas)"
   ]
  },
  {
   "cell_type": "code",
   "execution_count": 4,
   "id": "c18c3600-f58f-4732-abfa-f4623c7a4387",
   "metadata": {
    "tags": []
   },
   "outputs": [
    {
     "name": "stdout",
     "output_type": "stream",
     "text": [
      "10\n"
     ]
    }
   ],
   "source": [
    "#imprmindo um valor especifico\n",
    "print(notas[\"Rafael\"])"
   ]
  },
  {
   "cell_type": "code",
   "execution_count": 5,
   "id": "e0a9327c-4719-49eb-b30c-c33526024946",
   "metadata": {
    "tags": []
   },
   "outputs": [
    {
     "data": {
      "text/plain": [
       "dict_keys(['Marcus', 'Rafael', 'Pedro'])"
      ]
     },
     "execution_count": 5,
     "metadata": {},
     "output_type": "execute_result"
    }
   ],
   "source": [
    "#Todas as chaves\n",
    "notas.keys()"
   ]
  },
  {
   "cell_type": "code",
   "execution_count": 6,
   "id": "cbec332d-b4fb-46c2-a3ac-4a221115fea2",
   "metadata": {
    "tags": []
   },
   "outputs": [
    {
     "data": {
      "text/plain": [
       "dict_values([9.9, 10, 8.8])"
      ]
     },
     "execution_count": 6,
     "metadata": {},
     "output_type": "execute_result"
    }
   ],
   "source": [
    "#Todos os valores\n",
    "notas.values()"
   ]
  },
  {
   "cell_type": "code",
   "execution_count": 7,
   "id": "38d62eb4-2496-492e-b7a2-4e56d4f55a11",
   "metadata": {
    "tags": []
   },
   "outputs": [
    {
     "name": "stdout",
     "output_type": "stream",
     "text": [
      "False\n",
      "True\n"
     ]
    }
   ],
   "source": [
    "#Testando a existência\n",
    "print(\"João\" in notas)\n",
    "print(\"Marcus\" in notas)"
   ]
  },
  {
   "cell_type": "code",
   "execution_count": 8,
   "id": "27cfa979-9b98-48e7-8629-32db10220928",
   "metadata": {
    "tags": []
   },
   "outputs": [
    {
     "name": "stdout",
     "output_type": "stream",
     "text": [
      "{'Marcus': 9.9, 'Rafael': 10}\n"
     ]
    }
   ],
   "source": [
    "#apagando um elemento\n",
    "del notas[\"Pedro\"]\n",
    "print(notas)"
   ]
  },
  {
   "cell_type": "code",
   "execution_count": 9,
   "id": "ee190201-70bf-4b93-9841-10419b0c1572",
   "metadata": {
    "tags": []
   },
   "outputs": [
    {
     "name": "stdout",
     "output_type": "stream",
     "text": [
      "{'Marcus': 9.9, 'Rafael': 10, 'Ana': 10}\n"
     ]
    }
   ],
   "source": [
    "#Adicionando um elemento\n",
    "notas[\"Ana\"] = 10\n",
    "print(notas)"
   ]
  },
  {
   "cell_type": "code",
   "execution_count": 11,
   "id": "1ef1165b-7710-4825-90bf-2a2495a4ad65",
   "metadata": {
    "tags": []
   },
   "outputs": [
    {
     "data": {
      "text/plain": [
       "'Não encontrado!'"
      ]
     },
     "execution_count": 11,
     "metadata": {},
     "output_type": "execute_result"
    }
   ],
   "source": [
    "#buscando um valor. Se esse valor não existir, imprimir a mensagem\n",
    "notas.get(\"Geraldão\", \"Não encontrado!\")"
   ]
  },
  {
   "cell_type": "code",
   "execution_count": null,
   "id": "46662966-7fa4-4bb5-8087-ec6ca670e93d",
   "metadata": {},
   "outputs": [],
   "source": []
  }
 ],
 "metadata": {
  "kernelspec": {
   "display_name": "Python 3 (ipykernel)",
   "language": "python",
   "name": "python3"
  },
  "language_info": {
   "codemirror_mode": {
    "name": "ipython",
    "version": 3
   },
   "file_extension": ".py",
   "mimetype": "text/x-python",
   "name": "python",
   "nbconvert_exporter": "python",
   "pygments_lexer": "ipython3",
   "version": "3.11.3"
  }
 },
 "nbformat": 4,
 "nbformat_minor": 5
}
